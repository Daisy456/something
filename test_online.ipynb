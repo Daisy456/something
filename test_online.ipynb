{
 "cells": [
  {
   "cell_type": "code",
   "execution_count": 1,
   "id": "382a5c3b",
   "metadata": {},
   "outputs": [],
   "source": [
    "import re"
   ]
  },
  {
   "cell_type": "code",
   "execution_count": 2,
   "id": "a9823c7c",
   "metadata": {},
   "outputs": [],
   "source": [
    "long_text = \"\"\"\n",
    "Variopartner SICAV\n",
    "529900LPCSV88817QH61\n",
    "1. TARENO GLOBAL WATER SOLUTIONS FUND\n",
    "LU2001709034\n",
    "LU2057889995\n",
    "LU2001709547\n",
    "2. TARENO FIXED INCOME FUND\n",
    "LU1299722972\n",
    "3. TARENO GLOBAL EQUITY FUND\n",
    "LU1299721909\n",
    "LU1299722113\n",
    "LU1299722030\n",
    "4. MIV GLOBAL MEDTECH FUND\n",
    "LU0329630999\n",
    "LU0329630130\n",
    "\"\"\""
   ]
  },
  {
   "cell_type": "code",
   "execution_count": 3,
   "id": "dacfa756",
   "metadata": {},
   "outputs": [],
   "source": [
    "data = {}  # 创建用于存储数据的字典\n",
    "\n",
    "# 通过换行符分割文本，得到列表\n",
    "lines = long_text.strip().split('\\n')\n",
    "\n",
    "data['name'] = lines[0]  # 取出名称并存储\n",
    "data['lei'] = lines[1]  # 取出lei并存储"
   ]
  },
  {
   "cell_type": "code",
   "execution_count": 4,
   "id": "75d83161",
   "metadata": {},
   "outputs": [
    {
     "name": "stdout",
     "output_type": "stream",
     "text": [
      "{'name': 'Variopartner SICAV', 'lei': '529900LPCSV88817QH61', 'sub_fund': [{'title': 'TARENO GLOBAL WATER SOLUTIONS FUND', 'isin': ['LU2001709034', 'LU2057889995', 'LU2001709547']}, {'title': 'TARENO FIXED INCOME FUND', 'isin': ['LU1299722972']}, {'title': 'TARENO GLOBAL EQUITY FUND', 'isin': ['LU1299721909', 'LU1299722113', 'LU1299722030']}, {'title': 'MIV GLOBAL MEDTECH FUND', 'isin': ['LU0329630999', 'LU0329630130']}]}\n"
     ]
    }
   ],
   "source": [
    "#创建一个列表存储sub_fund\n",
    "sub_funds = []\n",
    "i = 2  \n",
    "while i < len(lines):\n",
    "    fund = {}  # 创建字典存储文本信息\n",
    "    fund['title'] = lines[i].split('.')[1].strip()  #存储title\n",
    "\n",
    "    i += 1\n",
    "    isin_list = []\n",
    "    #利用正则化模糊匹配\".\",分割每一个sun_fund\n",
    "    while i < len(lines) and not re.match(r'^.*\\..*', lines[i]): \n",
    "        isin_list.append(lines[i].strip())\n",
    "        i += 1\n",
    "    fund['isin'] = isin_list  # 存储isin\n",
    "    sub_funds.append(fund)  # 将fund添加到sub_funds列表中\n",
    "\n",
    "data['sub_fund'] = sub_funds  # 将sub_funds列表添加到data字典中\n",
    "\n",
    "print(data)"
   ]
  },
  {
   "cell_type": "code",
   "execution_count": null,
   "id": "c5ba46ec",
   "metadata": {},
   "outputs": [],
   "source": []
  }
 ],
 "metadata": {
  "kernelspec": {
   "display_name": "Python 3 (ipykernel)",
   "language": "python",
   "name": "python3"
  },
  "language_info": {
   "codemirror_mode": {
    "name": "ipython",
    "version": 3
   },
   "file_extension": ".py",
   "mimetype": "text/x-python",
   "name": "python",
   "nbconvert_exporter": "python",
   "pygments_lexer": "ipython3",
   "version": "3.7.13"
  }
 },
 "nbformat": 4,
 "nbformat_minor": 5
}
